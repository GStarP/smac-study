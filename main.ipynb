{
 "cells": [
  {
   "cell_type": "code",
   "execution_count": 3,
   "metadata": {},
   "outputs": [],
   "source": [
    "import numpy as np\n",
    "from smac.env import StarCraft2Env"
   ]
  },
  {
   "cell_type": "code",
   "execution_count": 52,
   "metadata": {},
   "outputs": [
    {
     "output_type": "stream",
     "name": "stdout",
     "text": "{'state_shape': 48, 'obs_shape': 30, 'n_actions': 9, 'n_agents': 3, 'episode_limit': 60}\n"
    }
   ],
   "source": [
    "# 创建地图为 3m, 难度为 3 的环境\n",
    "env = StarCraft2Env(map_name=\"3m\", difficulty=\"3\")\n",
    "\n",
    "'''\n",
    "环境信息\n",
    "state_shape    状态向量维度\n",
    "obs_shape      观察向量维度\n",
    "n_actions      可用行动数\n",
    "n_agents       可用单位数\n",
    "episode_limit  最大迭代次数\n",
    "'''\n",
    "env_info = env.get_env_info()\n",
    "print(env_info)"
   ]
  },
  {
   "cell_type": "code",
   "execution_count": 64,
   "metadata": {},
   "outputs": [
    {
     "output_type": "stream",
     "name": "stdout",
     "text": "==== game start ===\n"
    }
   ],
   "source": [
    "# 启动游戏环境\n",
    "env.reset()\n",
    "print(\"==== game start ===\")"
   ]
  },
  {
   "cell_type": "code",
   "execution_count": 24,
   "metadata": {},
   "outputs": [
    {
     "output_type": "stream",
     "name": "stdout",
     "text": "3\n30\n[1.         1.         1.         1.         0.         0.\n 0.         0.         0.         0.         0.         0.\n 0.         0.         0.         0.         0.         0.\n 0.         1.         0.0764974  0.         0.0764974  1.\n 1.         0.10818365 0.0764974  0.0764974  1.         1.        ]\n"
    }
   ],
   "source": [
    "'''\n",
    "获取每个单位的观察向量(如果死了全为 0)\n",
    "可能没有的项后加*\n",
    "[part1 移动特征]\n",
    "0/1/2/3: move n/s/e/w\n",
    "[part2 敌方特征] x 3 (不在视野范围内时标 * 的全没有, 存在的全为 0)\n",
    "0: 是否能攻击\n",
    "1: 距离\n",
    "2: 相对 X\n",
    "3: 相对 Y\n",
    "4: 百分比生命*\n",
    "5: 百分比护盾*\n",
    "6: 单位类型*\n",
    "[part3 友军特征] x 2 (不在视野范围内时标 * 的全没有, 存在的全为 0)\n",
    "0: 是否可见\n",
    "1: 距离\n",
    "2: 相对 X\n",
    "3: 相对 Y\n",
    "4: 百分比生命*\n",
    "5: 百分比护盾*\n",
    "6: 单位类型*\n",
    "[part4 自身特征]\n",
    "0: 百分比生命\n",
    "1: 百分比护盾*\n",
    "2: 单位类型\n",
    "'''\n",
    "obs = env.get_obs()\n",
    "print(len(obs))     # = n_agents\n",
    "print(len(obs[0]))  # = obs_shape (30 = 4 + (0123 = 4) * 3 + (012346 = 6) * 2 + (02 = 2))\n",
    "print(obs[0])"
   ]
  },
  {
   "cell_type": "code",
   "execution_count": 25,
   "metadata": {},
   "outputs": [
    {
     "output_type": "stream",
     "name": "stdout",
     "text": "48\n[ 1.          0.         -0.25       -0.02458845  1.          0.\n -0.25        0.          1.          0.         -0.22541155  0.\n  1.          0.25        0.          1.          0.25       -0.02458845\n  1.          0.27458844  0.          0.          0.          0.\n  0.          0.          0.          0.          0.          0.\n  0.          0.          0.          0.          0.          0.\n  0.          0.          0.          0.          0.          0.\n  0.          0.          0.          0.          0.          0.        ]\n"
    }
   ],
   "source": [
    "# 获取全局状态\n",
    "state = env.get_state()\n",
    "print(len(state))  # = state_shape\n",
    "print(state)"
   ]
  },
  {
   "cell_type": "code",
   "execution_count": 26,
   "metadata": {},
   "outputs": [
    {
     "output_type": "stream",
     "name": "stdout",
     "text": "[0, 1, 1, 1, 1, 1, 0, 0, 0]\n"
    }
   ],
   "source": [
    "# agent_id 不能超过 n_agents\n",
    "agent_id = 0\n",
    "'''\n",
    "可用的行动\n",
    "0: no-op(活着的时候不能选择)\n",
    "1: stop\n",
    "2: move north\n",
    "3: move south\n",
    "4: move east\n",
    "5: move west\n",
    "6/7/8: can attack enemy 1/2/3\n",
    "'''\n",
    "avail_actions = env.get_avail_agent_actions(agent_id)\n",
    "print(avail_actions)"
   ]
  },
  {
   "cell_type": "code",
   "execution_count": 54,
   "metadata": {},
   "outputs": [
    {
     "output_type": "stream",
     "name": "stdout",
     "text": "0.0\nFalse\n{'battle_won': False}\n"
    }
   ],
   "source": [
    "# 让所有单位向东移动\n",
    "actions = []\n",
    "for i in range(n_agents):\n",
    "    actions.append(4)\n",
    "# step 接收一个全部单位行动的数组\n",
    "reward, terminated, _ = env.step(actions)\n",
    "print(reward)      # 奖赏(纯移动时为 0)\n",
    "print(terminated)  # 是否结束\n",
    "print(_)           # 是否胜利"
   ]
  },
  {
   "cell_type": "code",
   "execution_count": 65,
   "metadata": {},
   "outputs": [],
   "source": [
    "def no_enemy_in_sight():\n",
    "    for i in range(n_agents):\n",
    "        a = env.get_avail_agent_actions(i)\n",
    "        if (a[6] + a[7] + a[8] > 1):\n",
    "            return False\n",
    "    return True\n",
    "\n",
    "# 持续移动直到双方相遇\n",
    "while no_enemy_in_sight():\n",
    "    actions = []\n",
    "    for i in range(n_agents):\n",
    "        actions.append(4)\n",
    "    reward, terminated, _ = env.step(actions)"
   ]
  },
  {
   "cell_type": "code",
   "execution_count": 66,
   "metadata": {},
   "outputs": [
    {
     "output_type": "stream",
     "name": "stdout",
     "text": "[1.         1.         1.         1.         0.         0.699999\n 0.6906738  0.11387804 1.         1.         0.61815816 0.6181098\n 0.00773112 1.         1.         0.62583816 0.6201443  0.08422852\n 1.         1.         0.0764974  0.         0.0764974  1.\n 1.         0.10818365 0.0764974  0.0764974  0.73333335 1.        ]\n[0, 1, 1, 1, 1, 1, 0, 1, 1]\n"
    }
   ],
   "source": [
    "# 可以看到此时角色的观察向量已经发生改变\n",
    "print(env.get_obs_agent(0))\n",
    "# 也已经可以攻击敌方单位\n",
    "print(env.get_avail_agent_actions(0))"
   ]
  },
  {
   "cell_type": "code",
   "execution_count": 68,
   "metadata": {},
   "outputs": [
    {
     "output_type": "stream",
     "name": "stdout",
     "text": "battle not end: reward is 0.986301\nbattle not end: reward is 0.000000\nbattle not end: reward is 0.986301\nbattle not end: reward is 0.657534\nbattle not end: reward is 0.328767\nbattle not end: reward is 1.041096\nbattle not end: reward is 0.000000\nbattle not end: reward is 0.657534\nbattle not end: reward is 0.000000\nbattle not end: reward is 0.657534\nbattle not end: reward is 0.000000\nbattle not end: reward is 0.712329\nbattle not end: reward is 0.328767\nbattle not end: reward is 0.328767\nbattle not end: reward is 0.328767\nbattle not end: reward is 0.000000\nbattle not end: reward is 0.328767\nbattle not end: reward is 0.000000\nbattle not end: reward is 0.328767\nbattle not end: reward is 0.000000\nbattle not end: reward is 0.328767\nbattle not end: reward is 0.328767\nbattle end, you lose: reward is 0.000000\n"
    }
   ],
   "source": [
    "# 你可以看到你的机枪兵集火敌方单位直到其死亡\n",
    "# 虽然因为先被打的是你们, 所以只打死一两个敌人之后你们就死光光了(x\n",
    "def all_dead():\n",
    "    for i in range(n_agents):\n",
    "        if (env.get_avail_agent_actions(i)[0] != 1):\n",
    "            return False\n",
    "    return True\n",
    "\n",
    "while not all_dead():\n",
    "    actions = []\n",
    "    for i in range(n_agents):\n",
    "        dead = env.get_avail_agent_actions(i)[0]\n",
    "        if dead == 1:\n",
    "            actions.append(0)\n",
    "        else:\n",
    "            hit = 0\n",
    "            for j in [6, 7, 8]:\n",
    "                if env.get_avail_agent_actions(i)[j] == 1:\n",
    "                    actions.append(j)\n",
    "                    hit = 1\n",
    "                    break\n",
    "            if hit == 0:\n",
    "                actions.append(1)\n",
    "    reward, terminated, _ = env.step(actions)\n",
    "    # 战斗会产生奖励\n",
    "    end_str = ''\n",
    "    if not terminated:\n",
    "        end_str += 'not '\n",
    "    win_str = ''\n",
    "    if terminated:\n",
    "        win_str = ', you '\n",
    "        if _['battle_won']:\n",
    "            win_str += 'win'\n",
    "        else:\n",
    "            win_str += 'lose'\n",
    "    print(\"battle %send%s: reward is %f\" % (end_str, win_str, reward))"
   ]
  },
  {
   "cell_type": "code",
   "execution_count": 63,
   "metadata": {},
   "outputs": [],
   "source": [
    "# 关闭游戏环境\n",
    "env.close()"
   ]
  }
 ],
 "metadata": {
  "language_info": {
   "codemirror_mode": {
    "name": "ipython",
    "version": 3
   },
   "file_extension": ".py",
   "mimetype": "text/x-python",
   "name": "python",
   "nbconvert_exporter": "python",
   "pygments_lexer": "ipython3",
   "version": "3.6.2-final"
  },
  "orig_nbformat": 2,
  "kernelspec": {
   "name": "python36264bittfconda7dd5315aa2d14c5b815752d06dcf39e0",
   "display_name": "Python 3.6.2 64-bit ('tf': conda)"
  }
 },
 "nbformat": 4,
 "nbformat_minor": 2
}